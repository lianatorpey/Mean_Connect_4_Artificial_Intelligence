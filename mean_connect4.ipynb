{
  "cells": [
    {
      "cell_type": "markdown",
      "metadata": {
        "id": "WyISr3c6L8cY"
      },
      "source": [
        "# Adversarial Search: Playing \"Mean\" Connect 4\n",
        "\n",
        "\n",
        "## Instructions\n",
        "\n",
        "All student names in group: [Liana Torpey, Blake Lewinski]\n",
        "\n",
        "I understand that my submission needs to be my own group's work: [LGT, BCL]\n",
        "\n",
        "I understand that ChatGPT / Copilot / other AI tools are not allowed: [LGT, BCL]\n",
        "\n",
        "Points: 10\n",
        "\n",
        "Complete this notebook and submit it (save/print as pdf). The notebook needs to be a complete project report with your implementation, documentation including a short discussion of how your implementation works and your design choices, and experimental results (e.g., tables and charts with simulation results) with a short discussion of what they mean. Use the provided notebook cells and insert additional code and markdown cells as needed.\n",
        "\n",
        "## Introduction\n",
        "\n",
        "You will implement different versions of agents that play \"Mean\" Connect 4:\n",
        "\n",
        "> \"Connect 4 is a two-player connection board game, in which the players choose a color and then take turns dropping colored discs into a seven-column, six-row vertically suspended grid. The pieces fall straight down, occupying the lowest available space within the column. The objective of the game is to be the first to form a horizontal, vertical, or diagonal line of four of one's own discs.\" (see [Connect Four on Wikipedia](https://en.wikipedia.org/wiki/Connect_Four))\n",
        "\n",
        "> **The mean part:** This game has an additional rule. Every time it is a player's turn, the player can decide to instead of playing a new disk, take a bottom row disk of the opponent and place it back in the top of the same column. All disks above the removed disk will fall down one position and the removed one will be placed on top. Note that a player can only move an _opponent's disc_ that is in the _bottom row_ of the board. **Further, you are not allowed to play a mean move if your opponent just played one.** This ensures the game will end at some point. This also may affect the definition of a state, compared with standard connect 4.\n",
        "\n",
        "Note that normal [Connect-4 has been solved](https://en.wikipedia.org/wiki/Connect_Four#Mathematical_solution)\n",
        "in 1988. A connect-4 solver with a discussion of how to solve different parts of the problem can be found here: https://connect4.gamesolver.org/en/"
      ]
    },
    {
      "cell_type": "markdown",
      "metadata": {
        "id": "zuWbcK6gL8cZ"
      },
      "source": [
        "## Task 1: Defining the Search Problem [1 point]\n",
        "\n",
        "Define the components of the search problem associated with this game:\n",
        "\n",
        "* Initial state\n",
        "* Actions\n",
        "* Transition model\n",
        "* Test for the terminal state\n",
        "* Utility for terminal states"
      ]
    },
    {
      "cell_type": "markdown",
      "metadata": {
        "id": "xc4bPOSeitPV"
      },
      "source": [
        "Initial state: The initial state of the game is an empty board with 6 rows and 7 columns, where no disks are placed. (Or n rows and m columns could describe the initial state of the room.)\n",
        "\n",
        "Actions: In Mean Connect 4, the actions involve either placing a disk of the player's color into one of the columns (if the column is not full), or performing a \"mean move\" by taking an opponent's disk from the bottom row of a column and placing it on top of the same column. Players alternate turns, so the action space depends on the current state of the board and whether a mean move is available. It is also dependent on the fact that once a move is made, the next move cannot also be a mean move.\n",
        "\n",
        "Transition model: The transition model describes how actions change the current state. When a player places a disk into a column, it falls to the lowest available position in that column. If a mean move is performed, the opponent's disk from the bottom row is removed and placed on top, causing the disks above it to fall down.\n",
        "\n",
        "Test for the terminal state: The game terminates when one player achieves a winning condition (four consecutive disks of their color in a row, column, or diagonal) or when the board is filled with disks and no winning condition is met. In addition, if both players decide to pass their turn for a certain number of times (indicating a deadlock situation), the game may also terminate. Also, if a mean move results in a tie then the game terminates immediately, and none of the players win even if one player has more connected fours than the other.\n",
        "\n",
        "Utility for terminal states: In Mean Connect 4, the utility function assigns a value to terminal states based on the outcome of the game. Typically, a win for the player is assigned a positive utility, a win for the opponent is assigned a negative utility, and a draw is assigned a neutral utility."
      ]
    },
    {
      "cell_type": "markdown",
      "metadata": {
        "id": "cHDORt8_L8cg"
      },
      "source": [
        "How big is the state space? Give an estimate and explain it."
      ]
    },
    {
      "cell_type": "markdown",
      "metadata": {
        "id": "ZimuI1w1kHm2"
      },
      "source": [
        "State Space Estimate:\n",
        "In the mean version of Connect 4, the state space is significantly larger than the standard Connect 4 due to the mean move option.\n",
        "\n",
        "Columns: 7 columns (standard Connect 4)\n",
        "Rows: 6 rows (standard Connect 4)\n",
        "Possible Disks in a Cell: 3 (empty, player's disk, opponent's disk)\n",
        "Mean Move Option: For each player's turn, they can choose to make a regular move or a mean move.\n",
        "\n",
        "Considering these factors, the total state space can be estimated as:\n",
        "3^(42) * 2\n",
        "(since there are 42 cells and each cell can be in one of three states, and there are two players who can make a move"
      ]
    },
    {
      "cell_type": "markdown",
      "metadata": {
        "id": "7ci9AS2QL8ch"
      },
      "source": [
        "How big is the game tree that minimax search will go through? Give an estimate and explain it."
      ]
    },
    {
      "cell_type": "markdown",
      "metadata": {
        "id": "E3HR-zhykSLK"
      },
      "source": [
        "Branching Factor:\n",
        "In standard Connect 4, the branching factor is approximately 7 (the number of columns). However, in Mean Connect 4, the branching factor effectively doubles since players have two types of moves to consider: dropping a disc or performing a mean move. Therefore, the branching factor is around 14.\n",
        "\n",
        "Depth of the Tree:\n",
        "The depth of the game tree varies based on the number of moves made and the number of mean moves performed. Estimating the average depth of the tree is challenging due to the dynamic nature of the game. However, it's safe to assume that the depth could be around 21 moves or more, considering that players have 21 opportunities to play, and mean moves might prolong the game.\n",
        "\n",
        "Given these estimates, the size of the game tree can be approximated as:\n",
        "\n",
        "Size of Game Tree ≈ (Branching Factor)^Depth of Tree\n",
        "\n",
        "Size of Game Tree ≈ 14^(21)\n",
        "\n",
        "However, this is a rough estimate, and the actual size of the game tree could be smaller due to pruning strategies in the minimax algorithm and alpha-beta pruning, which can significantly reduce the number of nodes explored."
      ]
    },
    {
      "cell_type": "markdown",
      "metadata": {
        "id": "u66LNfUEL8ci"
      },
      "source": [
        "## Task 2: Game Environment and Random Agent [3 point]\n",
        "\n",
        "You can use a numpy character array as the board. Note that the following function can create boards of different sizes."
      ]
    },
    {
      "cell_type": "code",
      "execution_count": null,
      "metadata": {
        "colab": {
          "base_uri": "https://localhost:8080/"
        },
        "id": "gFoRCZefL8cj",
        "outputId": "3bd024bf-ef72-41fd-d8b6-02dff27fd40a"
      },
      "outputs": [
        {
          "output_type": "stream",
          "name": "stdout",
          "text": [
            "[[0 0 0 0 0 0 0]\n",
            " [0 0 0 0 0 0 0]\n",
            " [0 0 0 0 0 0 0]\n",
            " [0 0 0 0 0 0 0]\n",
            " [0 0 0 0 0 0 0]\n",
            " [0 0 0 0 0 0 0]]\n"
          ]
        }
      ],
      "source": [
        "import numpy as np\n",
        "\n",
        "def empty_board(shape=(6, 7)):\n",
        "    return np.full(shape=shape, fill_value=0)\n",
        "\n",
        "print(empty_board())"
      ]
    },
    {
      "cell_type": "markdown",
      "metadata": {
        "id": "GCCwVya8L8cj"
      },
      "source": [
        "Instead of colors (red and yellow), you can use 1 and -1 to represent the players Max and Min. Make sure that your agent functions all have the from: `agent_type(state, player = 1)`, where board is the current board position and player is the player (1, -1) whose next move it is and who the agent should play."
      ]
    },
    {
      "cell_type": "markdown",
      "metadata": {
        "id": "DtsGKQPsL8ck"
      },
      "source": [
        "Visualization code by Randolph Rankin:"
      ]
    },
    {
      "cell_type": "code",
      "execution_count": null,
      "metadata": {
        "colab": {
          "base_uri": "https://localhost:8080/",
          "height": 430
        },
        "id": "dRChZkdZL8ck",
        "outputId": "b5fb7195-8646-4b10-8b1c-0a95ffa9bf0b",
        "scrolled": true
      },
      "outputs": [
        {
          "output_type": "display_data",
          "data": {
            "text/plain": [
              "<Figure size 640x480 with 1 Axes>"
            ],
            "image/png": "[encoded data removed]"
          },
          "metadata": {}
        }
      ],
      "source": [
        "import matplotlib.pyplot as plt\n",
        "\n",
        "def visualize(board):\n",
        "    plt.axes()\n",
        "    rectangle = plt.Rectangle((-0.5, len(board) * -1 + 0.5), len(board[0]), len(board), fc='blue')\n",
        "    circles = []\n",
        "    for i, row in enumerate(board):\n",
        "        for j, val in enumerate(row):\n",
        "            color = 'white' if val == 0 else 'red' if val == 1 else 'yellow'\n",
        "            circles.append(plt.Circle((j, i * -1), 0.4, fc=color))\n",
        "\n",
        "    plt.gca().add_patch(rectangle)\n",
        "    for circle in circles:\n",
        "        plt.gca().add_patch(circle)\n",
        "\n",
        "    plt.axis('scaled')\n",
        "    plt.show()\n",
        "\n",
        "board = [[0, 0, 0, 0, 0, 0, 0],\n",
        "         [0, 0, 0, 0, 0, 0, 0],\n",
        "         [0, 0, 0, 0, 0, 0, 0],\n",
        "         [0, 0, 0, 1, 0, 0, 0],\n",
        "         [0, 0, 0, 1, 0, 0, 0],\n",
        "         [0,-1,-1, 1,-1, 0, 0]]\n",
        "\n",
        "visualize(board)"
      ]
    },
    {
      "cell_type": "markdown",
      "metadata": {
        "id": "ZOa_fihRL8ck"
      },
      "source": [
        "Implement helper functions for:\n",
        "\n",
        "* The transition model $result(s, a)$.\n",
        "* The utility function $utility(s)$.\n",
        "* Check for terminal states $terminal(s)$.\n",
        "* A check for available actions in each state $actions(s)$.\n",
        "\n",
        "Make sure that all these functions work with boards of different sizes (number of columns and rows)."
      ]
    },
    {
      "cell_type": "code",
      "execution_count": null,
      "metadata": {
        "id": "8sDMBWFtL8ck"
      },
      "outputs": [],
      "source": [
        "# Function to check if a column is valid for placing a disk\n",
        "def is_valid_column(board, column):\n",
        "    return board[0, column] == 0\n",
        "\n",
        "# Function to find the next available row in a column\n",
        "def find_next_row(board, column):\n",
        "    for row in range(board.shape[0] - 1, -1, -1):\n",
        "        if board[row, column] == 0:\n",
        "            return row\n",
        "    return -1\n",
        "\n",
        "# Function to apply the mean move\n",
        "def apply_mean_move(board, column, player):\n",
        "    print(\"************ MEAN MOVE IS EXECUTED ****************\")\n",
        "    if board[-1, column] != -player:\n",
        "        return False  # Mean move cannot be applied if the bottom row disk is not of the opponent\n",
        "\n",
        "    for row in range(board.shape[0] - 2, -1, -1):\n",
        "        board[row + 1, column] = board[row, column]\n",
        "\n",
        "    # Place the opponent's piece at the top of the column\n",
        "    board[0, column] = -player\n",
        "\n",
        "    return True\n",
        "\n",
        "# Function to apply a player's move\n",
        "def apply_player_move(board, column, player):\n",
        "    row = find_next_row(board, column)\n",
        "    board[row, column] = player\n",
        "\n",
        "# Function to check for terminal states\n",
        "def terminal(board):\n",
        "    if np.all(board != 0):\n",
        "        return True\n",
        "    if check_winner(board, 1) or check_winner(board, -1):\n",
        "        return True\n",
        "    return False\n",
        "\n",
        "# Function to get available actions\n",
        "def actions(board):\n",
        "    board_array = np.array(board)  # Convert the board to a NumPy array\n",
        "    available_actions = []\n",
        "    for col in range(board_array.shape[1]):\n",
        "        if is_valid_column(board_array, col):\n",
        "            available_actions.append(col)\n",
        "    return available_actions\n",
        "\n",
        "# Function to get the utility of a terminal state\n",
        "def utility(board):\n",
        "    if check_winner(board, 1):\n",
        "        return 1\n",
        "    elif check_winner(board, -1):\n",
        "        return -1\n",
        "    else:\n",
        "        return 0\n",
        "\n",
        "# Function to check if a player has won\n",
        "def check_winner(board, player):\n",
        "    # Check horizontal\n",
        "    for row in range(board.shape[0]):\n",
        "        for col in range(board.shape[1] - 3):\n",
        "            if np.all(board[row, col:col + 4] == player):\n",
        "                return True\n",
        "\n",
        "    # Check vertical\n",
        "    for col in range(board.shape[1]):\n",
        "        for row in range(board.shape[0] - 3):\n",
        "            if np.all(board[row:row + 4, col] == player):\n",
        "                return True\n",
        "\n",
        "    # Check diagonal (positive slope)\n",
        "    for row in range(board.shape[0] - 3):\n",
        "        for col in range(board.shape[1] - 3):\n",
        "            if np.all(board[row:row + 4, col + np.arange(4)] == player):\n",
        "                return True\n",
        "\n",
        "    # Check diagonal (negative slope)\n",
        "    for row in range(3, board.shape[0]):\n",
        "        for col in range(board.shape[1] - 3):\n",
        "            if np.all(board[row - np.arange(4), col + np.arange(4)] == player):\n",
        "                return True\n",
        "\n",
        "    # Check negative diagonal (backslash pattern)\n",
        "    for row in range(board.shape[0] - 3):\n",
        "        for col in range(board.shape[1] - 3):\n",
        "            if np.all(board[row:row + 4, col:col + 4].diagonal() == player):\n",
        "                return True\n",
        "\n",
        "    return False\n",
        "\n",
        "# Transition model result function\n",
        "def result(state, action, player):\n",
        "    new_state = state.copy()\n",
        "    if action == 'mean':\n",
        "        for col in range(new_state.shape[1]):\n",
        "            if new_state[-1, col] == -player:\n",
        "                if apply_mean_move(new_state, col, player):\n",
        "                    return new_state  # Mean move applied successfully, return the new state\n",
        "    elif action is not None:\n",
        "        row = find_next_row(new_state, action)\n",
        "        if row != -1:\n",
        "            new_state[row, action] = player\n",
        "    return new_state"
      ]
    },
    {
      "cell_type": "markdown",
      "metadata": {
        "id": "8T7SYQM4L8cl"
      },
      "source": [
        "Implement an agent that plays randomly. Make sure the agent function receives as the percept the game state and returns a valid action. Use an agent function definition with the following signature (arguments):\n",
        "\n",
        "`def random_player(state, player = None): ...`\n",
        "\n",
        "The argument `player` is used for agents that do not store what side they are playing. The value passed on by the environment should be 1 ot -1 for playerred and yellow, respectively.  See [Experiments section for tic-tac-toe](https://nbviewer.org/github/mhahsler/CS7320-AI/blob/master/Games/tictactoe_and_or_tree_search.ipynb#Experiments) for an example."
      ]
    },
    {
      "cell_type": "code",
      "execution_count": null,
      "metadata": {
        "id": "g0uUKNKNL8cl"
      },
      "outputs": [],
      "source": [
        "# Random player agent function\n",
        "def random_player(state, player=None):\n",
        "    available_actions = actions(state)\n",
        "    return np.random.choice(available_actions)"
      ]
    },
    {
      "cell_type": "markdown",
      "metadata": {
        "id": "rS3yOFlbL8cl"
      },
      "source": [
        "Let two random agents play against each other 1000 times. Look at the [Experiments section for tic-tac-toe](https://nbviewer.org/github/mhahsler/CS7320-AI/blob/master/Games/tictactoe_and_or_tree_search.ipynb#Experiments) to see how the environment uses the agent functions to play against each other.\n",
        "\n",
        "How often does each player win? Is the result expected?"
      ]
    },
    {
      "cell_type": "code",
      "execution_count": null,
      "metadata": {
        "colab": {
          "base_uri": "https://localhost:8080/"
        },
        "id": "55tvNH3vL8cl",
        "outputId": "4c8bdf54-cb92-4785-eafd-73bfd716f05f"
      },
      "outputs": [
        {
          "output_type": "stream",
          "name": "stdout",
          "text": [
            "Player 1 (Red) wins: 555\n",
            "Player -1 (Yellow) wins: 442\n",
            "Draws: 3\n"
          ]
        }
      ],
      "source": [
        "# Function to play a game between two agents\n",
        "def play_game():\n",
        "    board = empty_board()  # Initialize the board\n",
        "    players = [1, -1]  # Players: 1 for red, -1 for yellow\n",
        "    mean_move_used = False\n",
        "\n",
        "    while not terminal(board):\n",
        "        for player in players:\n",
        "            action = random_player(board, player)\n",
        "            if isinstance(action, tuple) and action[0] == 'mean':\n",
        "                if mean_move_used:\n",
        "                    # If a mean move was already used, end the game in a draw\n",
        "                    return 0\n",
        "                mean_move_used = True\n",
        "\n",
        "            board = result(board, action, player)\n",
        "\n",
        "            if terminal(board):\n",
        "                break\n",
        "\n",
        "    return utility(board)  # Return the utility of the terminal state\n",
        "\n",
        "# Main function to run the experiment\n",
        "if __name__ == \"__main__\":\n",
        "    num_games = 1000\n",
        "    wins = {1: 0, -1: 0, 0: 0}  # Dictionary to store the wins for each player and draws\n",
        "\n",
        "    for _ in range(num_games):\n",
        "        winner = play_game()\n",
        "        wins[winner] += 1\n",
        "\n",
        "    # Print the results\n",
        "    print(\"Player 1 (Red) wins:\", wins[1])\n",
        "    print(\"Player -1 (Yellow) wins:\", wins[-1])\n",
        "    print(\"Draws:\", wins[0])"
      ]
    },
    {
      "cell_type": "markdown",
      "metadata": {
        "id": "DvzOxRDpL8cm"
      },
      "source": [
        "## Task 3: Minimax Search with Alpha-Beta Pruning [3 points]\n",
        "\n",
        "### Implement the search starting.\n",
        "\n",
        "Implement the search starting from a given state and specifying the player and put it into an agent function.\n",
        "You can use code from the [tic-tac-toe example](https://nbviewer.org/github/mhahsler/CS7320-AI/blob/master/Games/tictactoe_alpha_beta_tree_search.ipynb).\n",
        "\n",
        "__Notes:__\n",
        "* Make sure that all your agent functions have a signature consistent with the random agent above.\n",
        "* The search space for a $6 \\times 7$ board is large. You can experiment with smaller boards (the smallest is $4 \\times 4$) and/or changing the winning rule to connect 3 instead of 4."
      ]
    },
    {
      "cell_type": "code",
      "execution_count": null,
      "metadata": {
        "id": "GJ2xQLrWL8cm"
      },
      "outputs": [],
      "source": [
        "# Minimax with Alpha-Beta pruning\n",
        "def minimax_ab(board, depth, alpha, beta, maximizing_player, original_player):\n",
        "    if terminal(board) or depth == 0:\n",
        "        return None, utility(board)\n",
        "\n",
        "    best_action = None\n",
        "    if maximizing_player:\n",
        "        max_eval = -np.inf\n",
        "        for action in actions(board):\n",
        "            new_board = result(board, action, original_player)\n",
        "            _, eval_score = minimax_ab(new_board, depth - 1, alpha, beta, False, original_player)\n",
        "            if eval_score > max_eval:\n",
        "                max_eval = eval_score\n",
        "                best_action = action\n",
        "            alpha = max(alpha, eval_score)\n",
        "            if beta <= alpha:\n",
        "                break  # Beta pruning\n",
        "        return best_action, max_eval\n",
        "    else:\n",
        "        min_eval = np.inf\n",
        "        for action in actions(board):\n",
        "            new_board = result(board, action, -original_player)\n",
        "            _, eval_score = minimax_ab(new_board, depth - 1, alpha, beta, True, original_player)\n",
        "            if eval_score is not None and eval_score < min_eval:\n",
        "                min_eval = eval_score\n",
        "                best_action = action\n",
        "            beta = min(beta, eval_score)\n",
        "            if beta <= alpha:\n",
        "                break  # Alpha pruning\n",
        "        return best_action, min_eval\n",
        "\n",
        "def minimax_player(state, player=None, depth=3):\n",
        "    maximizing_player = (player == 1)\n",
        "    best_action = None\n",
        "    alpha = -np.inf\n",
        "    beta = np.inf\n",
        "\n",
        "    if maximizing_player:\n",
        "        best_score = -np.inf\n",
        "        for action in actions(state):\n",
        "            new_board = result(state, action, player)\n",
        "\n",
        "            # Check for immediate mean move win\n",
        "            if action == 'mean' and check_mean_move_win(new_board, player):\n",
        "                return 'mean'\n",
        "\n",
        "            _, eval_score = minimax_ab(new_board, depth - 1, alpha, beta, False, player)\n",
        "\n",
        "            if eval_score is not None and eval_score > best_score:\n",
        "                best_score = eval_score\n",
        "                best_action = action\n",
        "            alpha = max(alpha, eval_score)\n",
        "            if beta <= alpha:\n",
        "                break  # Beta pruning\n",
        "\n",
        "    else:\n",
        "        best_score = np.inf\n",
        "        mean_move_available = False\n",
        "        for action in actions(state):\n",
        "            new_board = result(state, action, player)\n",
        "            if action == 'mean':\n",
        "                mean_move_available = True\n",
        "                if check_winner(new_board, player):\n",
        "                    return 'mean'  # If mean move can lead to a win, take it immediately\n",
        "                _, eval_score = minimax_ab(new_board, depth - 1, alpha, beta, True, player)\n",
        "            else:\n",
        "                _, eval_score = minimax_ab(new_board, depth - 1, alpha, beta, True, player)\n",
        "\n",
        "            if eval_score is not None and eval_score < best_score:\n",
        "                best_score = eval_score\n",
        "                best_action = action\n",
        "            beta = min(beta, eval_score)\n",
        "            if beta <= alpha:\n",
        "                break  # Alpha pruning\n",
        "\n",
        "        if best_action is None and mean_move_available:\n",
        "            best_action = 'mean'\n",
        "\n",
        "    return best_action\n",
        "\n",
        "def check_mean_move_win(board, player):\n",
        "    for col in range(board.shape[1] - 3):\n",
        "        for row in range(board.shape[0] - 3):\n",
        "            if np.all(board[row:row + 4, col:col + 4] == player):\n",
        "                return True\n",
        "    return False"
      ]
    },
    {
      "cell_type": "markdown",
      "metadata": {
        "id": "XQeK9qFXL8cm"
      },
      "source": [
        "Experiment with some manually created boards (at least 5) to check if the agent spots winning opportunities."
      ]
    },
    {
      "cell_type": "code",
      "execution_count": null,
      "metadata": {
        "colab": {
          "base_uri": "https://localhost:8080/",
          "height": 1000
        },
        "id": "ECcMh7WTL8cm",
        "outputId": "952484f2-c243-4aff-f71e-f34eb3ddf8d5"
      },
      "outputs": [
        {
          "output_type": "stream",
          "name": "stdout",
          "text": [
            "Testing Sample Board 1\n",
            "Player 1 has won!\n"
          ]
        },
        {
          "output_type": "display_data",
          "data": {
            "text/plain": [
              "<Figure size 640x480 with 1 Axes>"
            ],
            "image/png": "[encoded data removed]"
          },
          "metadata": {}
        },
        {
          "output_type": "stream",
          "name": "stdout",
          "text": [
            "Moves for Player 1:\n",
            "[4]\n",
            "Moves for Player 2:\n",
            "[]\n",
            "==============================\n",
            "Testing Sample Board 2\n",
            "Player 1 has won!\n"
          ]
        },
        {
          "output_type": "display_data",
          "data": {
            "text/plain": [
              "<Figure size 640x480 with 1 Axes>"
            ],
            "image/png": "[encoded data removed]"
          },
          "metadata": {}
        },
        {
          "output_type": "stream",
          "name": "stdout",
          "text": [
            "Moves for Player 1:\n",
            "[4]\n",
            "Moves for Player 2:\n",
            "[]\n",
            "==============================\n",
            "Testing Sample Board 3\n",
            "Player -1 has won!\n"
          ]
        },
        {
          "output_type": "display_data",
          "data": {
            "text/plain": [
              "<Figure size 640x480 with 1 Axes>"
            ],
            "image/png": "[encoded data removed]"
          },
          "metadata": {}
        },
        {
          "output_type": "stream",
          "name": "stdout",
          "text": [
            "Moves for Player 1:\n",
            "[0, 0, 1, 1, 1, 2, 2, 3, 3, 6, 6, 6, 4, 4, 5]\n",
            "Moves for Player 2:\n",
            "[0, 0, 1, 1, 2, 2, 3, 3, 6, 6, 6, 4, 4, 4, 5]\n",
            "==============================\n",
            "Testing Sample Board 4\n",
            "Player 1 has won!\n"
          ]
        },
        {
          "output_type": "display_data",
          "data": {
            "text/plain": [
              "<Figure size 640x480 with 1 Axes>"
            ],
            "image/png": "[encoded data removed]"
          },
          "metadata": {}
        },
        {
          "output_type": "stream",
          "name": "stdout",
          "text": [
            "Moves for Player 1:\n",
            "[1]\n",
            "Moves for Player 2:\n",
            "[]\n",
            "==============================\n",
            "Testing Sample Board 5\n",
            "Player 1 has won!\n"
          ]
        },
        {
          "output_type": "display_data",
          "data": {
            "text/plain": [
              "<Figure size 640x480 with 1 Axes>"
            ],
            "image/png": "[encoded data removed]"
          },
          "metadata": {}
        },
        {
          "output_type": "stream",
          "name": "stdout",
          "text": [
            "Moves for Player 1:\n",
            "[2, 0, 0]\n",
            "Moves for Player 2:\n",
            "[0, 0]\n",
            "==============================\n"
          ]
        }
      ],
      "source": [
        "def create_board(board_config):\n",
        "    return np.array(board_config)\n",
        "\n",
        "if __name__ == \"__main__\":\n",
        "    # Sample boards for testing\n",
        "    sample_boards = [\n",
        "    # Horizontal win opportunity for player 1 (WORKS!)\n",
        "    [[0, 0, 0, 0, 0, 0, 0],\n",
        "    [0, 0, 0, 0, 0, 0, 0],\n",
        "    [0, 0, 0, 0, 0, 0, 0],\n",
        "    [0, 0, 0, 0, 0, 0, 0],\n",
        "    [0, -1, -1, 0, 0, 0, 0],\n",
        "    [-1, 1, 1, 1, 0, -1, 0]],\n",
        "    # Positive slope diagonal win opportunity for player 1 (WORKS!)\n",
        "    [[0, 0, 0, 0, 0, 0, 0],\n",
        "    [0, 0, 0, 0, 0, 0, 0],\n",
        "    [0, 0, 0, 0, 0, 0, 0],\n",
        "    [0, 0, 0, 1, -1, 0, 0],\n",
        "    [0, 0, 1, -1, 1, 0, 0],\n",
        "    [0, 1, -1, 1, -1, 0, 0]],\n",
        "    # Mean move win opportunity for player 1\n",
        "    [[0, 0, 0, 0, 0, 0, 0],\n",
        "    [0, 0, 0, 0, 0, 0, 0],\n",
        "    [0, 0, 0, 0, 0, 0, 0],\n",
        "    [0, 0, 0, 0, 0, 0, 0],\n",
        "    [1, 0, -1, -1, 0, 0, 0],\n",
        "    [-1, 1, 1, 1, -1, 0, 0]],\n",
        "    # Vertical win opportunity for player 1 (WORKS!)\n",
        "    [[0, 0, 0, 0, 0, 0, 0],\n",
        "    [0, 0, 0, 0, 0, 0, 0],\n",
        "    [0, 0, 0, 0, 0, 0, 0],\n",
        "    [0, 1, 0, 0, 0, 0, 0],\n",
        "    [0, 1, 0, -1, 0, 0, 0],\n",
        "    [-1, 1, -1, -1, 0, 0, 0]],\n",
        "    # Negative slope diagonal win opportunity for player 1 (WORKS!)\n",
        "    [[0, 0, 0, 0, 0, 0, 0],\n",
        "    [0, 0, 0, 0, 0, 0, 0],\n",
        "    [0, 1, 0, 0, 0, 0, 0],\n",
        "    [0, -1, 1, 0, 0, 0, 0],\n",
        "    [0, -1, 1, 1, 0, 0, 0],\n",
        "    [-1, 1, -1, -1, 0, 0, 0]]\n",
        "    ]\n",
        "\n",
        "    for i, board_config in enumerate(sample_boards):\n",
        "      print(f\"Testing Sample Board {i + 1}\")\n",
        "      board = create_board(board_config)\n",
        "\n",
        "      player = 1  # Starting player\n",
        "      moves_player1 = []  # List to store player 1 moves\n",
        "      moves_player2 = []  # List to store player 2 moves\n",
        "      while not terminal(board):\n",
        "          current_board = board.copy()  # Create a copy of the board for the current player\n",
        "\n",
        "          if player == 1:\n",
        "              action = minimax_player(current_board, player=player, depth=4)\n",
        "              if action == 'mean':\n",
        "                  moves_player1.append('mean')\n",
        "              else:\n",
        "                  moves_player1.append(action)\n",
        "          else:\n",
        "              action = minimax_player(current_board, player=-player, depth=4)  # Pass -player for opponent\n",
        "              if action == 'mean':\n",
        "                  moves_player2.append('mean')\n",
        "              else:\n",
        "                  moves_player2.append(action)\n",
        "\n",
        "          # Apply the selected move\n",
        "          board = result(board, action, player)\n",
        "\n",
        "          # Check if the move resulted in a win\n",
        "          if check_winner(board, player):\n",
        "              print(f\"Player {player} has won!\")\n",
        "              break\n",
        "\n",
        "          # Switch players\n",
        "          player = -player\n",
        "\n",
        "      # Print the final board state\n",
        "      visualize(board)\n",
        "\n",
        "      # Print the moves made by each player\n",
        "      print(\"Moves for Player 1:\")\n",
        "      print(moves_player1)\n",
        "      print(\"Moves for Player 2:\")\n",
        "      print(moves_player2)\n",
        "\n",
        "      # Check if the game ended in a draw\n",
        "      if terminal(board) and not check_winner(board, 1) and not check_winner(board, -1):\n",
        "          print(\"The game ended in a draw!\")\n",
        "\n",
        "      print(\"=\" * 30)"
      ]
    },
    {
      "cell_type": "markdown",
      "metadata": {
        "id": "8ByI_b2VL8cm"
      },
      "source": [
        "How long does it take to make a move? Start with a smaller board with 4 columns and make the board larger by adding columns."
      ]
    },
    {
      "cell_type": "code",
      "execution_count": null,
      "metadata": {
        "id": "1kG2qLFIL8cm",
        "colab": {
          "base_uri": "https://localhost:8080/"
        },
        "outputId": "41af0137-fd39-4a1e-fd57-11523ed1ebca"
      },
      "outputs": [
        {
          "output_type": "stream",
          "name": "stdout",
          "text": [
            "Board size: (6, 4)\n",
            "Time taken to make a move (in seconds):\n",
            "0.01711297035217285\n",
            "\n",
            "Board size: (6, 5)\n",
            "Time taken to make a move (in seconds):\n",
            "0.03594160079956055\n",
            "\n",
            "Board size: (6, 6)\n",
            "Time taken to make a move (in seconds):\n",
            "0.06883835792541504\n",
            "\n",
            "Board size: (6, 7)\n",
            "Time taken to make a move (in seconds):\n",
            "0.12271285057067871\n",
            "\n",
            "Board size: (6, 8)\n",
            "Time taken to make a move (in seconds):\n",
            "0.20961666107177734\n",
            "\n"
          ]
        }
      ],
      "source": [
        "import numpy as np\n",
        "import time\n",
        "\n",
        "# Function to check if a mean move results in an immediate win for the player\n",
        "def check_mean_move_win(board, player):\n",
        "    for col in range(board.shape[1] - 3):\n",
        "        for row in range(board.shape[0]):\n",
        "            # Check horizontally\n",
        "            if np.all(board[row, col:col + 4] == player):\n",
        "                return True\n",
        "\n",
        "    return False\n",
        "\n",
        "# Function to make a move and measure the time taken\n",
        "def make_move_and_measure_time(board, player, depth=3):\n",
        "    start_time = time.time()\n",
        "    action = minimax_player(board, player, depth)\n",
        "    end_time = time.time()\n",
        "\n",
        "    if action == 'mean':\n",
        "        apply_mean_move(board, board.shape[1] // 2)  # Apply mean move for the middle column\n",
        "    else:\n",
        "        apply_player_move(board, action, player)\n",
        "\n",
        "    return end_time - start_time\n",
        "\n",
        "# Test the time taken to make a move on boards of increasing size\n",
        "for num_columns in range(4, 9):  # Increase board size from 4 to 8 columns\n",
        "    board_size = (6, num_columns)  # Fixed number of rows (6)\n",
        "    board = np.zeros(board_size, dtype=int)\n",
        "\n",
        "    # Determine which player starts the game\n",
        "    current_player = 1 if np.sum(board) == 0 else -1\n",
        "\n",
        "    print(f\"Board size: {board_size}\")\n",
        "    print(\"Time taken to make a move (in seconds):\")\n",
        "    print(make_move_and_measure_time(board, current_player))\n",
        "    print()\n"
      ]
    },
    {
      "cell_type": "markdown",
      "metadata": {
        "id": "XDHTe0LcL8cn"
      },
      "source": [
        "### Move ordering\n",
        "\n",
        "Starting the search with better moves will increase the efficiency of alpha-beta pruning. Describe and implement a simple move ordering strategy. Make a table that shows how the ordering strategies influence the time it takes to make a move."
      ]
    },
    {
      "cell_type": "markdown",
      "source": [
        "Winning Moves: Prioritize moves that lead to an immediate win for the current player.\n",
        "Blocking Moves: Prioritize moves that block the opponent from winning on the next turn.\n",
        "Center Column: Prioritize the center column(s) as they offer more opportunities for future wins.\n",
        "Other Columns: Prioritize other columns based on some heuristics like proximity to existing player pieces or avoidance of opponent pieces."
      ],
      "metadata": {
        "id": "8eGHMRJKyQLV"
      }
    },
    {
      "cell_type": "code",
      "source": [
        "def prioritized_actions(board, player):\n",
        "    # Initialize lists for different types of moves\n",
        "    winning_moves = []\n",
        "    blocking_moves = []\n",
        "    center_column = []\n",
        "    other_columns = []\n",
        "\n",
        "    # Prioritize winning moves\n",
        "    for action in actions(board):\n",
        "        new_board = result(board, action, player)\n",
        "        if check_winner(new_board, player):\n",
        "            winning_moves.append(action)\n",
        "\n",
        "    # Prioritize blocking moves\n",
        "    opponent = -player\n",
        "    for action in actions(board):\n",
        "        new_board = result(board, action, opponent)\n",
        "        if check_winner(new_board, opponent):\n",
        "            blocking_moves.append(action)\n",
        "\n",
        "    # Prioritize center column\n",
        "    center_column.extend([col for col in actions(board) if col == board.shape[1] // 2])\n",
        "\n",
        "    # Prioritize other columns\n",
        "    other_columns.extend([col for col in actions(board) if col != board.shape[1] // 2])\n",
        "\n",
        "    # Concatenate lists based on priority\n",
        "    ordered_actions = winning_moves + blocking_moves + center_column + other_columns\n",
        "\n",
        "    return ordered_actions\n",
        "\n",
        "\n",
        "def minimax_ab_ordered(board, depth, alpha, beta, maximizing_player, original_player):\n",
        "    if terminal(board) or depth == 0:\n",
        "        return None, utility(board)\n",
        "\n",
        "    best_action = None\n",
        "    if maximizing_player:\n",
        "        max_eval = -np.inf\n",
        "        for action in prioritized_actions(board, original_player):\n",
        "            new_board = result(board, action, original_player)\n",
        "            _, eval_score = minimax_ab_ordered(new_board, depth - 1, alpha, beta, False, original_player)\n",
        "            if eval_score > max_eval:\n",
        "                max_eval = eval_score\n",
        "                best_action = action\n",
        "            alpha = max(alpha, eval_score)\n",
        "            if beta <= alpha:\n",
        "                break  # Beta pruning\n",
        "        return best_action, max_eval\n",
        "    else:\n",
        "        min_eval = np.inf\n",
        "        for action in prioritized_actions(board, -original_player):\n",
        "            new_board = result(board, action, -original_player)\n",
        "            _, eval_score = minimax_ab_ordered(new_board, depth - 1, alpha, beta, True, original_player)\n",
        "            if eval_score is not None and eval_score < min_eval:\n",
        "                min_eval = eval_score\n",
        "                best_action = action\n",
        "            beta = min(beta, eval_score)\n",
        "            if beta <= alpha:\n",
        "                break  # Alpha pruning\n",
        "        return best_action, min_eval\n",
        "\n",
        "\n",
        "def measure_move_time(board, player, depth, ordered=True):\n",
        "    start_time = time.time()\n",
        "    if ordered:\n",
        "        minimax_ab_ordered(board, depth, -np.inf, np.inf, True, player)\n",
        "    else:\n",
        "        minimax_ab(board, depth, -np.inf, np.inf, True, player)\n",
        "    end_time = time.time()\n",
        "    return end_time - start_time\n",
        "\n",
        "\n",
        "# Experiment to measure the influence of move ordering strategy on move time\n",
        "depth = 4\n",
        "board_size = (6, 7)\n",
        "board = np.zeros(board_size, dtype=int)\n",
        "player = 1\n",
        "\n",
        "# Measure move time with move ordering strategy\n",
        "time_with_ordering = measure_move_time(board, player, depth, ordered=True)\n",
        "\n",
        "# Measure move time without move ordering strategy\n",
        "time_without_ordering = measure_move_time(board, player, depth, ordered=False)\n",
        "\n",
        "# Print the results in a table\n",
        "print(\"| Move Ordering Strategy | Time Taken (seconds) |\")\n",
        "print(\"|------------------------|----------------------|\")\n",
        "print(f\"| With ordering          | {time_with_ordering:.6f}           |\")\n",
        "print(f\"| Without ordering       | {time_without_ordering:.6f}           |\")"
      ],
      "metadata": {
        "colab": {
          "base_uri": "https://localhost:8080/"
        },
        "id": "Dvtx3pNGyh2j",
        "outputId": "459df953-f67d-44aa-df92-395c65e0529a"
      },
      "execution_count": null,
      "outputs": [
        {
          "output_type": "stream",
          "name": "stdout",
          "text": [
            "| Move Ordering Strategy | Time Taken (seconds) |\n",
            "|------------------------|----------------------|\n",
            "| With ordering          | 0.729470           |\n",
            "| Without ordering       | 0.254191           |\n"
          ]
        }
      ]
    },
    {
      "cell_type": "markdown",
      "metadata": {
        "id": "n_ZJDd9nL8cn"
      },
      "source": [
        "### The first few moves\n",
        "\n",
        "Start with an empty board. This is the worst case scenario for minimax search with alpha-beta pruning since it needs solve all possible games that can be played (minus some pruning) before making the decision. What can you do?"
      ]
    },
    {
      "cell_type": "markdown",
      "source": [
        "To address the worst-case scenario for minimax search with alpha-beta pruning, where the game tree needs to be fully explored from the beginning take advantage of several techniques to mitigate the computational complexity:\n",
        "\n",
        "Heuristic Evaluation: Implement a heuristic evaluation function that estimates the value of a board position without examining all possible future moves. This allows the algorithm to make informed decisions based on the current state of the board. Limiting Search Depth: Instead of searching until the end of the game, limit the depth of the search tree. This approach sacrifices the accuracy of the evaluation but significantly reduces the computational cost.\n",
        "\n",
        "Iterative Deepening: Implement iterative deepening, which involves performing multiple depth-limited searches with increasing depths. This allows the algorithm to make a move even if it hasn't fully explored the game tree to the desired depth.\n",
        "\n",
        "Transposition Tables: Use transposition tables to store previously computed states and their corresponding values. This can prevent redundant computations and improve the efficiency of the search algorithm.\n",
        "\n",
        "Move Ordering: Implement move ordering techniques to prioritize exploring moves that are more likely to lead to favorable outcomes. This can help improve alpha-beta pruning by reducing the number of nodes that need to be explored.\n",
        "\n",
        "Parallelization: Utilize parallelization techniques to explore different branches of the game tree concurrently. This can help speed up the search process, especially on multi-core processors or distributed systems."
      ],
      "metadata": {
        "id": "TP4GJuGd8lr4"
      }
    },
    {
      "cell_type": "markdown",
      "metadata": {
        "id": "Uhk1YRnDL8cn"
      },
      "source": [
        "### Playtime\n",
        "\n",
        "Let the Minimax Search agent play a random agent on a small board. Analyze wins, losses and draws."
      ]
    },
    {
      "cell_type": "code",
      "execution_count": null,
      "metadata": {
        "id": "Kx1qffv2L8co",
        "colab": {
          "base_uri": "https://localhost:8080/"
        },
        "outputId": "66e102a9-b134-4af6-ac3f-6d57f3e35b0f"
      },
      "outputs": [
        {
          "output_type": "stream",
          "name": "stdout",
          "text": [
            "Minimax Search agent wins: 95\n",
            "Random agent wins: 5\n",
            "Draws: 0\n"
          ]
        }
      ],
      "source": [
        "def play_game():\n",
        "    board = empty_board()\n",
        "    current_player = 1  # Start with player 1\n",
        "\n",
        "    while not terminal(board):\n",
        "        if current_player == 1:\n",
        "            # Minimax Search agent's turn\n",
        "            action = minimax_player(board, player=current_player)\n",
        "        else:\n",
        "            # Random agent's turn\n",
        "            action = random_player(board, player=current_player)\n",
        "\n",
        "        # Apply the chosen action to the board\n",
        "        if action == 'mean':\n",
        "            # Handle mean move\n",
        "            for col in range(board.shape[1]):\n",
        "                if board[-1, col] == -current_player:\n",
        "                    apply_mean_move(board, col, current_player)\n",
        "                    break\n",
        "        else:\n",
        "            apply_player_move(board, action, current_player)\n",
        "\n",
        "        # Switch to the next player\n",
        "        current_player = -current_player if current_player == 1 else 1\n",
        "\n",
        "    # Analyze the game result\n",
        "    winner = utility(board)\n",
        "    if winner == 1:\n",
        "        print(\"Minimax Search agent wins!\")\n",
        "    elif winner == -1:\n",
        "        print(\"Random agent wins!\")\n",
        "    else:\n",
        "        print(\"It's a draw!\")\n",
        "\n",
        "def analyze_games(num_games):\n",
        "    wins_minimax = 0\n",
        "    wins_random = 0\n",
        "    draws = 0\n",
        "\n",
        "    for _ in range(num_games):\n",
        "        board = empty_board()\n",
        "        current_player = 1  # Start with player 1\n",
        "\n",
        "        while not terminal(board):\n",
        "            if current_player == 1:\n",
        "                action = minimax_player(board, player=current_player)\n",
        "            else:\n",
        "                action = random_player(board, player=current_player)\n",
        "\n",
        "            if action == 'mean':\n",
        "                for col in range(board.shape[1]):\n",
        "                    if board[-1, col] == -current_player:\n",
        "                        apply_mean_move(board, col, current_player)\n",
        "                        break\n",
        "            else:\n",
        "                apply_player_move(board, action, current_player)\n",
        "\n",
        "            current_player = -current_player if current_player == 1 else 1\n",
        "\n",
        "        winner = utility(board)\n",
        "        if winner == 1:\n",
        "            wins_minimax += 1\n",
        "        elif winner == -1:\n",
        "            wins_random += 1\n",
        "        else:\n",
        "            draws += 1\n",
        "\n",
        "    print(f\"Minimax Search agent wins: {wins_minimax}\")\n",
        "    print(f\"Random agent wins: {wins_random}\")\n",
        "    print(f\"Draws: {draws}\")\n",
        "\n",
        "analyze_games(100)"
      ]
    },
    {
      "cell_type": "markdown",
      "metadata": {
        "id": "LXE2i58iL8co"
      },
      "source": [
        "## Task 4: Heuristic Alpha-Beta Tree Search [3 points]\n",
        "\n",
        "### Heuristic evaluation function\n",
        "\n",
        "Define and implement a heuristic evaluation function."
      ]
    },
    {
      "cell_type": "code",
      "execution_count": null,
      "metadata": {
        "id": "qoCQIXw_L8co"
      },
      "outputs": [],
      "source": [
        "def heuristic_evaluation(board, player, ROWS, COLS):\n",
        "    score = 0\n",
        "\n",
        "    # Check horizontal\n",
        "    for row in range(ROWS):\n",
        "        for col in range(COLS - 3):\n",
        "            window = board[row, col:col+4]\n",
        "            score += evaluate_window(window, player)\n",
        "\n",
        "    # Check vertical\n",
        "    for col in range(COLS):\n",
        "        for row in range(ROWS - 3):\n",
        "            window = board[row:row+4, col]\n",
        "            score += evaluate_window(window, player)\n",
        "\n",
        "    # Check positive diagonal\n",
        "    for row in range(ROWS - 3):\n",
        "        for col in range(COLS - 3):\n",
        "            window = [board[row+i, col+i] for i in range(4)]\n",
        "            score += evaluate_window(window, player)\n",
        "\n",
        "    # Check negative diagonal\n",
        "    for row in range(ROWS - 3):\n",
        "        for col in range(COLS - 3):\n",
        "            window = [board[row+3-i, col+i] for i in range(4)]\n",
        "            score += evaluate_window(window, player)\n",
        "\n",
        "    return score\n",
        "\n",
        "def evaluate_window(window, player):\n",
        "    score = 0\n",
        "    opponent = -player\n",
        "\n",
        "    player_count = np.count_nonzero(window == player)\n",
        "    empty_count = np.count_nonzero(window == 0)\n",
        "\n",
        "    if player_count == 4:\n",
        "        score += 100\n",
        "    elif player_count == 3 and empty_count == 1:\n",
        "        score += 5\n",
        "    elif player_count == 2 and empty_count == 2:\n",
        "        score += 2\n",
        "\n",
        "    opponent_count = np.count_nonzero(window == opponent)\n",
        "\n",
        "    if opponent_count == 3 and empty_count == 1:\n",
        "        score -= 4\n",
        "\n",
        "    return score\n"
      ]
    },
    {
      "cell_type": "markdown",
      "source": [
        "Horizontal, Vertical, and Diagonal Evaluation:\n",
        "\n",
        "The function evaluates the board horizontally, vertically, and diagonally to check for potential winning configurations.\n",
        "It iterates through all possible positions on the board and looks for sequences of four discs, considering both the player's and opponent's positions.\n",
        "\n",
        "Scoring:\n",
        "The function assigns scores to different configurations of discs in the window being evaluated.\n",
        "If a window contains four discs belonging to the player, it assigns a high positive score (100 in this case) because that configuration leads to an immediate win.\n",
        "It assigns lower scores for configurations that have fewer discs of the player but still have potential to lead to a win.\n",
        "Negative scores are assigned for configurations where the opponent has a chance to win.\n",
        "\n",
        "Player and Opponent Counts:\n",
        "The function counts the number of discs belonging to the player and the opponent within the window being evaluated.\n",
        "It also counts the number of empty spaces in the window.\n",
        "\n",
        "Final Score:\n",
        "The final score is the sum of scores obtained from evaluating different windows across the board."
      ],
      "metadata": {
        "id": "MML5ApH2Ed1w"
      }
    },
    {
      "cell_type": "code",
      "source": [
        "# IMPLEMENT HEURISTICS IN MIN MAX ALPHA BETA PRUNING SEARCH\n",
        "def minimax_ab(board, depth, alpha, beta, maximizing_player, original_player):\n",
        "    if terminal(board) or depth == 0:\n",
        "        return None, heuristic_evaluation(board, original_player, 6, 7)\n",
        "\n",
        "    best_action = None\n",
        "    if maximizing_player:\n",
        "        max_eval = -np.inf\n",
        "        for action in actions(board):\n",
        "            new_board = result(board, action, original_player)\n",
        "            _, eval_score = minimax_ab(new_board, depth - 1, alpha, beta, False, original_player)\n",
        "            if eval_score > max_eval:\n",
        "                max_eval = eval_score\n",
        "                best_action = action\n",
        "            alpha = max(alpha, eval_score)\n",
        "            if beta <= alpha:\n",
        "                break  # Beta pruning\n",
        "        return best_action, max_eval\n",
        "    else:\n",
        "        min_eval = np.inf\n",
        "        for action in actions(board):\n",
        "            new_board = result(board, action, -original_player)\n",
        "            _, eval_score = minimax_ab(new_board, depth - 1, alpha, beta, True, original_player)\n",
        "            if eval_score < min_eval:\n",
        "                min_eval = eval_score\n",
        "                best_action = action\n",
        "            beta = min(beta, eval_score)\n",
        "            if beta <= alpha:\n",
        "                break  # Alpha pruning\n",
        "        return best_action, min_eval\n",
        "\n",
        "def minimax_player(state, player=None, depth=3):\n",
        "    maximizing_player = (player == 1)\n",
        "    best_action = None\n",
        "    alpha = -np.inf\n",
        "    beta = np.inf\n",
        "\n",
        "    if maximizing_player:\n",
        "        best_score = -np.inf\n",
        "        for action in actions(state):\n",
        "            new_board = result(state, action, player)\n",
        "\n",
        "            # Check for immediate mean move win\n",
        "            if action == 'mean' and check_mean_move_win(new_board, player):\n",
        "                return 'mean'\n",
        "\n",
        "            _, eval_score = minimax_ab(new_board, depth - 1, alpha, beta, False, player)\n",
        "\n",
        "            if eval_score is not None and eval_score > best_score:\n",
        "                best_score = eval_score\n",
        "                best_action = action\n",
        "            alpha = max(alpha, eval_score)\n",
        "            if beta <= alpha:\n",
        "                break  # Beta pruning\n",
        "\n",
        "    else:\n",
        "        best_score = np.inf\n",
        "        mean_move_available = False\n",
        "        for action in actions(state):\n",
        "            new_board = result(state, action, player)\n",
        "            if action == 'mean':\n",
        "                mean_move_available = True\n",
        "                if check_winner(new_board, player):\n",
        "                    return 'mean'  # If mean move can lead to a win, take it immediately\n",
        "                _, eval_score = minimax_ab(new_board, depth - 1, alpha, beta, True, player)\n",
        "            else:\n",
        "                _, eval_score = minimax_ab(new_board, depth - 1, alpha, beta, True, player)\n",
        "\n",
        "            if eval_score is not None and eval_score < best_score:\n",
        "                best_score = eval_score\n",
        "                best_action = action\n",
        "            beta = min(beta, eval_score)\n",
        "            if beta <= alpha:\n",
        "                break  # Alpha pruning\n",
        "\n",
        "        if best_action is None and mean_move_available:\n",
        "            best_action = 'mean'\n",
        "\n",
        "    return best_action\n",
        "\n",
        "def check_mean_move_win(board, player):\n",
        "    for col in range(board.shape[1] - 3):\n",
        "        for row in range(board.shape[0] - 3):\n",
        "            if np.all(board[row:row + 4, col:col + 4] == player):\n",
        "                return True\n",
        "    return False\n"
      ],
      "metadata": {
        "id": "ngNY9wdd-tM1"
      },
      "execution_count": null,
      "outputs": []
    },
    {
      "cell_type": "markdown",
      "metadata": {
        "id": "QbIviqR6L8co"
      },
      "source": [
        "### Cutting off search\n",
        "\n",
        "Modify your Minimax Search with Alpha-Beta Pruning to cut off search at a specified depth and use the heuristic evaluation function. Experiment with different cutoff values."
      ]
    },
    {
      "cell_type": "code",
      "execution_count": null,
      "metadata": {
        "id": "IhKCwDTPL8co",
        "colab": {
          "base_uri": "https://localhost:8080/"
        },
        "outputId": "6322f6c9-037b-41d7-b090-179483c2832d"
      },
      "outputs": [
        {
          "output_type": "stream",
          "name": "stdout",
          "text": [
            "   Depth    Winner  Evaluation\n",
            "0      2  Player 1         100\n",
            "1      3  Player 2        -216\n",
            "2      4  Player 1         113\n",
            "3      5  Player 2           0\n",
            "A positive evaluation score indicates an advantage for Player 1, while a negative score would indicate an advantage for Player 2.\n"
          ]
        }
      ],
      "source": [
        "import pandas as pd\n",
        "import numpy as np\n",
        "\n",
        "# Define the empty_board function\n",
        "def empty_board(rows, cols):\n",
        "    return np.zeros((rows, cols), dtype=int)\n",
        "\n",
        "# Modify the play_connect4_with_depth_experiment function\n",
        "def play_connect4_with_depth_experiment(depth_values):\n",
        "    results = []\n",
        "\n",
        "    for depth in depth_values:\n",
        "        board = empty_board(6, 7)  # Create an empty board\n",
        "        player = 1\n",
        "        winner = None\n",
        "\n",
        "        while not terminal(board):\n",
        "            if player == 1:\n",
        "                col = minimax_player(board, depth, player)  # Pass depth to minimax_player\n",
        "                apply_player_move(board, col, player)\n",
        "            else:\n",
        "                col = minimax_player(board, depth, player)  # Pass depth to minimax_player\n",
        "                apply_player_move(board, col, player)\n",
        "            player *= -1\n",
        "\n",
        "        if check_winner(board, 1):\n",
        "            winner = \"Player 1\"\n",
        "        elif check_winner(board, -1):\n",
        "            winner = \"Player 2\"\n",
        "        else:\n",
        "            winner = \"Draw\"\n",
        "\n",
        "        # Evaluate the final board using the heuristic function\n",
        "        evaluation = heuristic_evaluation(board, 1, 6, 7) - heuristic_evaluation(board, -1, 6, 7)\n",
        "\n",
        "        results.append({\"Depth\": depth, \"Winner\": winner, \"Evaluation\": evaluation})\n",
        "\n",
        "    # Create a DataFrame to display results\n",
        "    results_df = pd.DataFrame(results)\n",
        "    print(results_df)\n",
        "    print(\"A positive evaluation score indicates an advantage for Player 1, while a negative score would indicate an advantage for Player 2.\")\n",
        "\n",
        "# Define depth values to experiment with\n",
        "depth_values = [2, 3, 4, 5]\n",
        "\n",
        "# Run the experiments\n",
        "play_connect4_with_depth_experiment(depth_values)"
      ]
    },
    {
      "cell_type": "markdown",
      "metadata": {
        "id": "NBpYGvxBL8co"
      },
      "source": [
        "Experiment with the same manually created boards as above to check if the agent spots winning opportunities."
      ]
    },
    {
      "cell_type": "code",
      "execution_count": null,
      "metadata": {
        "id": "KHqb_K5YL8co",
        "colab": {
          "base_uri": "https://localhost:8080/",
          "height": 1000
        },
        "outputId": "e78dae23-0108-47f1-95da-f041e8486cde"
      },
      "outputs": [
        {
          "output_type": "stream",
          "name": "stdout",
          "text": [
            "Testing Sample Board 1\n",
            "Player 1 has won!\n"
          ]
        },
        {
          "output_type": "display_data",
          "data": {
            "text/plain": [
              "<Figure size 640x480 with 1 Axes>"
            ],
            "image/png": "[encoded data removed]"
          },
          "metadata": {}
        },
        {
          "output_type": "stream",
          "name": "stdout",
          "text": [
            "Moves for Player 1:\n",
            "[4]\n",
            "Moves for Player 2:\n",
            "[]\n",
            "==============================\n",
            "Testing Sample Board 2\n",
            "Player 1 has won!\n"
          ]
        },
        {
          "output_type": "display_data",
          "data": {
            "text/plain": [
              "<Figure size 640x480 with 1 Axes>"
            ],
            "image/png": "[encoded data removed]"
          },
          "metadata": {}
        },
        {
          "output_type": "stream",
          "name": "stdout",
          "text": [
            "Moves for Player 1:\n",
            "[4]\n",
            "Moves for Player 2:\n",
            "[]\n",
            "==============================\n",
            "Testing Sample Board 3\n",
            "Player -1 has won!\n"
          ]
        },
        {
          "output_type": "display_data",
          "data": {
            "text/plain": [
              "<Figure size 640x480 with 1 Axes>"
            ],
            "image/png": "[encoded data removed]"
          },
          "metadata": {}
        },
        {
          "output_type": "stream",
          "name": "stdout",
          "text": [
            "Moves for Player 1:\n",
            "[4, 2, 3, 0, 0, 0, 5, 1]\n",
            "Moves for Player 2:\n",
            "[3, 3, 0, 3, 5, 5, 4, 6]\n",
            "==============================\n",
            "Testing Sample Board 4\n",
            "Player 1 has won!\n"
          ]
        },
        {
          "output_type": "display_data",
          "data": {
            "text/plain": [
              "<Figure size 640x480 with 1 Axes>"
            ],
            "image/png": "[encoded data removed]"
          },
          "metadata": {}
        },
        {
          "output_type": "stream",
          "name": "stdout",
          "text": [
            "Moves for Player 1:\n",
            "[1]\n",
            "Moves for Player 2:\n",
            "[]\n",
            "==============================\n",
            "Testing Sample Board 5\n",
            "Player 1 has won!\n"
          ]
        },
        {
          "output_type": "display_data",
          "data": {
            "text/plain": [
              "<Figure size 640x480 with 1 Axes>"
            ],
            "image/png": "[encoded data removed]"
          },
          "metadata": {}
        },
        {
          "output_type": "stream",
          "name": "stdout",
          "text": [
            "Moves for Player 1:\n",
            "[4]\n",
            "Moves for Player 2:\n",
            "[]\n",
            "==============================\n"
          ]
        }
      ],
      "source": [
        "# Function to create an empty Connect Four board\n",
        "def create_board(board_config):\n",
        "    return np.array(board_config)\n",
        "\n",
        "# Function to execute the game with depth experiment\n",
        "def execute_game_with_depth_experiment(sample_boards, depth):\n",
        "    for i, board_config in enumerate(sample_boards):\n",
        "        print(f\"Testing Sample Board {i + 1}\")\n",
        "        rows = len(board_config)\n",
        "        cols = len(board_config[0])  # Assuming all rows have the same number of columns\n",
        "        board = create_board(board_config)\n",
        "\n",
        "        player = 1  # Starting player\n",
        "        moves_player1 = []  # List to store player 1 moves\n",
        "        moves_player2 = []  # List to store player 2 moves\n",
        "        while not terminal(board):\n",
        "          if player == 1:\n",
        "              action = minimax_player(board, depth, player)  # Player 1's turn\n",
        "              if action == 'mean':\n",
        "                  moves_player1.append('mean')\n",
        "              else:\n",
        "                  moves_player1.append(action)\n",
        "          else:\n",
        "              action = minimax_player(board, depth, player)  # Player -1's turn\n",
        "              if action == 'mean':\n",
        "                  moves_player2.append('mean')\n",
        "              else:\n",
        "                  moves_player2.append(action)\n",
        "\n",
        "          # Apply the selected move\n",
        "          board = result(board, action, player)\n",
        "\n",
        "          # Check if the move resulted in a win\n",
        "          if check_winner(board, player):\n",
        "              print(f\"Player {player} has won!\")\n",
        "              break\n",
        "\n",
        "          # Switch players\n",
        "          player = -player\n",
        "\n",
        "        # Print the final board state\n",
        "        visualize(board)\n",
        "\n",
        "        # Print the moves made by each player\n",
        "        print(\"Moves for Player 1:\")\n",
        "        print(moves_player1)\n",
        "        print(\"Moves for Player 2:\")\n",
        "        print(moves_player2)\n",
        "\n",
        "        # Check if the game ended in a draw\n",
        "        if terminal(board) and not check_winner(board, 1) and not check_winner(board, -1):\n",
        "          print(\"The game ended in a draw!\")\n",
        "\n",
        "        print(\"=\" * 30)\n",
        "\n",
        "if __name__ == \"__main__\":\n",
        "  # Sample boards for testing\n",
        "    sample_boards = [\n",
        "    # Horizontal win opportunity for player 1 (WORKS!)\n",
        "    [[0, 0, 0, 0, 0, 0, 0],\n",
        "    [0, 0, 0, 0, 0, 0, 0],\n",
        "    [0, 0, 0, 0, 0, 0, 0],\n",
        "    [0, 0, 0, 0, 0, 0, 0],\n",
        "    [0, -1, -1, 0, 0, 0, 0],\n",
        "    [-1, 1, 1, 1, 0, -1, 0]],\n",
        "    # Positive slope diagonal win opportunity for player 1 (WORKS!)\n",
        "    [[0, 0, 0, 0, 0, 0, 0],\n",
        "    [0, 0, 0, 0, 0, 0, 0],\n",
        "    [0, 0, 0, 0, 0, 0, 0],\n",
        "    [0, 0, 0, 1, -1, 0, 0],\n",
        "    [0, 0, 1, -1, 1, 0, 0],\n",
        "    [0, 1, -1, 1, -1, 0, 0]],\n",
        "    # Mean move win opportunity for player 1\n",
        "    [[0, 0, 0, 0, 0, 0, 0],\n",
        "    [0, 0, 0, 0, 0, 0, 0],\n",
        "    [0, 0, 0, 0, 0, 0, 0],\n",
        "    [0, 0, 0, 0, 0, 0, 0],\n",
        "    [1, 0, -1, -1, 0, 0, 0],\n",
        "    [-1, 1, 1, 1, -1, 0, 0]],\n",
        "    # Vertical win opportunity for player 1 (WORKS!)\n",
        "    [[0, 0, 0, 0, 0, 0, 0],\n",
        "    [0, 0, 0, 0, 0, 0, 0],\n",
        "    [0, 0, 0, 0, 0, 0, 0],\n",
        "    [0, 1, 0, 0, 0, 0, 0],\n",
        "    [0, 1, 0, -1, 0, 0, 0],\n",
        "    [-1, 1, -1, -1, 0, 0, 0]],\n",
        "    # Negative slope diagonal win opportunity for player 1 (WORKS!)\n",
        "    [[0, 0, 0, 0, 0, 0, 0],\n",
        "    [0, 0, 0, 0, 0, 0, 0],\n",
        "    [0, 1, 0, 0, 0, 0, 0],\n",
        "    [0, -1, 1, 0, 0, 0, 0],\n",
        "    [0, -1, 1, 1, 0, 0, 0],\n",
        "    [-1, 1, -1, -1, 0, 0, 0]]\n",
        "    ]\n",
        "  # Depth for the Minimax search\n",
        "    depth = 4\n",
        "  # Execute the game with depth experiment\n",
        "    execute_game_with_depth_experiment(sample_boards, depth)"
      ]
    },
    {
      "cell_type": "markdown",
      "metadata": {
        "id": "ZaBC7W7VL8cp"
      },
      "source": [
        "How long does it take to make a move? Start with a smaller board with 4 columns and make the board larger by adding columns."
      ]
    },
    {
      "cell_type": "code",
      "execution_count": null,
      "metadata": {
        "id": "yb303vWbL8cp",
        "colab": {
          "base_uri": "https://localhost:8080/"
        },
        "outputId": "2ebf6fb0-8636-4f41-d3bf-e70a14712715"
      },
      "outputs": [
        {
          "output_type": "stream",
          "name": "stdout",
          "text": [
            "Testing with 4 columns\n",
            "Total move time for 4 columns: 3.528594970703125e-05 seconds\n",
            "Testing with 5 columns\n",
            "Total move time for 5 columns: 2.6941299438476562e-05 seconds\n",
            "Testing with 6 columns\n",
            "Total move time for 6 columns: 3.123283386230469e-05 seconds\n",
            "Testing with 7 columns\n",
            "Total move time for 7 columns: 7.104873657226562e-05 seconds\n",
            "Testing with 8 columns\n",
            "Total move time for 8 columns: 9.012222290039062e-05 seconds\n"
          ]
        }
      ],
      "source": [
        "import numpy as np\n",
        "import time\n",
        "\n",
        "# Function to create an empty board with specified rows and columns\n",
        "def create_board(rows, cols):\n",
        "    return np.zeros((rows, cols), dtype=int)\n",
        "\n",
        "# Function to check if a column is valid for placing a disk\n",
        "def is_valid_column(board, column):\n",
        "    return board[0, column] == 0\n",
        "\n",
        "# Function to find the next available row in a column\n",
        "def find_next_row(board, column):\n",
        "    for row in range(board.shape[0] - 1, -1, -1):\n",
        "        if board[row, column] == 0:\n",
        "            return row\n",
        "    return -1\n",
        "\n",
        "# Function to apply a player's move\n",
        "def apply_player_move(board, column, player):\n",
        "    row = find_next_row(board, column)\n",
        "    board[row, column] = player\n",
        "\n",
        "# Function to check for terminal states\n",
        "def is_terminal(board):\n",
        "    if np.all(board != 0):\n",
        "        return True\n",
        "    if check_winner(board, 1) or check_winner(board, -1):\n",
        "        return True\n",
        "    return False\n",
        "\n",
        "# Function to check if a player has won\n",
        "def check_winner(board, player):\n",
        "    # Check horizontal\n",
        "    for row in range(board.shape[0]):\n",
        "        for col in range(board.shape[1] - 3):\n",
        "            if np.all(board[row, col:col + 4] == player):\n",
        "                return True\n",
        "\n",
        "    # Check vertical\n",
        "    for col in range(board.shape[1]):\n",
        "        for row in range(board.shape[0] - 3):\n",
        "            if np.all(board[row:row + 4, col] == player):\n",
        "                return True\n",
        "\n",
        "    # Check diagonal (positive slope)\n",
        "    for row in range(board.shape[0] - 3):\n",
        "        for col in range(board.shape[1] - 3):\n",
        "            if np.all(board[row:row + 4, col + np.arange(4)] == player):\n",
        "                return True\n",
        "\n",
        "    # Check diagonal (negative slope)\n",
        "    for row in range(3, board.shape[0]):\n",
        "        for col in range(board.shape[1] - 3):\n",
        "            if np.all(board[row - np.arange(4), col + np.arange(4)] == player):\n",
        "                return True\n",
        "\n",
        "    # Check negative diagonal (backslash pattern)\n",
        "    for row in range(board.shape[0] - 3):\n",
        "        for col in range(board.shape[1] - 3):\n",
        "            if np.all(board[row:row + 4, col:col + 4].diagonal() == player):\n",
        "                return True\n",
        "\n",
        "    return False\n",
        "\n",
        "# Function to get available actions\n",
        "def get_available_actions(board):\n",
        "    available_actions = []\n",
        "    for col in range(board.shape[1]):\n",
        "        if is_valid_column(board, col):\n",
        "            available_actions.append(col)\n",
        "    return available_actions\n",
        "\n",
        "# Function to measure move time\n",
        "def measure_move_time(board, player, column, move_function):\n",
        "    start_time = time.time()\n",
        "    move_function(board, column, player)\n",
        "    end_time = time.time()\n",
        "    return end_time - start_time\n",
        "\n",
        "# Function to play Connect Four with depth experiment and measure move time\n",
        "def play_connect4_with_time_experiment(start_cols, max_cols):\n",
        "    for cols in range(start_cols, max_cols + 1):  # Iterate through different column sizes\n",
        "        print(f\"Testing with {cols} columns\")\n",
        "        board = create_board(6, cols)\n",
        "        player = 1\n",
        "        total_move_time = 0.0\n",
        "\n",
        "        while not is_terminal(board):\n",
        "            # Assume a simple random move for demonstration purposes\n",
        "            available_actions = get_available_actions(board)\n",
        "            column = np.random.choice(available_actions)\n",
        "            move_time = measure_move_time(board, player, column, apply_player_move)\n",
        "            total_move_time += move_time\n",
        "            player *= -1\n",
        "\n",
        "        print(f\"Total move time for {cols} columns: {total_move_time} seconds\")\n",
        "\n",
        "# Run the experiment\n",
        "start_columns = 4\n",
        "max_columns = 8\n",
        "play_connect4_with_time_experiment(start_columns, max_columns)\n"
      ]
    },
    {
      "cell_type": "markdown",
      "metadata": {
        "id": "bokyrXrkL8cp"
      },
      "source": [
        "### Playtime\n",
        "\n",
        "Let two heuristic search agents (different cutoff depth, different heuristic evaluation function) compete against each other on a reasonably sized board. Since there is no randomness, you only need to let them play once."
      ]
    },
    {
      "cell_type": "code",
      "execution_count": null,
      "metadata": {
        "id": "hUILjLbdL8cp",
        "colab": {
          "base_uri": "https://localhost:8080/"
        },
        "outputId": "4ac8faaa-0e6c-493d-8556-a16f9949dcc8"
      },
      "outputs": [
        {
          "output_type": "stream",
          "name": "stdout",
          "text": [
            "Player 2 wins!\n"
          ]
        }
      ],
      "source": [
        "def minimax_ab(board, depth, alpha, beta, maximizing_player):\n",
        "    if terminal(board) or depth == 0:\n",
        "        return None, heuristic_evaluation(board, maximizing_player, 6, 7)\n",
        "\n",
        "    best_action = None\n",
        "    if maximizing_player:\n",
        "        max_eval = -np.inf\n",
        "        for action in actions(board):\n",
        "            new_board = result(board, action, 1)\n",
        "            _, eval_score = minimax_ab(new_board, depth - 1, alpha, beta, False)\n",
        "            if eval_score > max_eval:\n",
        "                max_eval = eval_score\n",
        "                best_action = action\n",
        "            alpha = max(alpha, eval_score)\n",
        "            if beta <= alpha:\n",
        "                break  # Beta pruning\n",
        "        return best_action, max_eval\n",
        "    else:\n",
        "        min_eval = np.inf\n",
        "        for action in actions(board):\n",
        "            new_board = result(board, action, -1)\n",
        "            _, eval_score = minimax_ab(new_board, depth - 1, alpha, beta, True)\n",
        "            if eval_score < min_eval:\n",
        "                min_eval = eval_score\n",
        "                best_action = action\n",
        "            beta = min(beta, eval_score)\n",
        "            if beta <= alpha:\n",
        "                break  # Alpha pruning\n",
        "        return best_action, min_eval\n",
        "\n",
        "\n",
        "def minimax_player(state, depth, player=None):\n",
        "    maximizing_player = (player == 1)\n",
        "    best_action = None\n",
        "    alpha = -np.inf\n",
        "    beta = np.inf\n",
        "\n",
        "    if maximizing_player:\n",
        "        best_score = -np.inf\n",
        "        for action in actions(state):\n",
        "            new_board = result(state, action, player)\n",
        "\n",
        "            # Check for immediate mean move win\n",
        "            if action == 'mean' and check_mean_move_win(new_board, player):\n",
        "                return 'mean'\n",
        "\n",
        "            _, eval_score = minimax_ab(new_board, depth - 1, alpha, beta, False)\n",
        "\n",
        "            if eval_score is not None and eval_score > best_score:\n",
        "                best_score = eval_score\n",
        "                best_action = action\n",
        "            alpha = max(alpha, eval_score)\n",
        "            if beta <= alpha:\n",
        "                break  # Beta pruning\n",
        "\n",
        "    else:\n",
        "        best_score = np.inf\n",
        "        mean_move_available = False\n",
        "        for action in actions(state):\n",
        "            new_board = result(state, action, player)\n",
        "            if action == 'mean':\n",
        "                mean_move_available = True\n",
        "                if check_winner(new_board, player):\n",
        "                    return 'mean'  # If mean move can lead to a win, take it immediately\n",
        "                _, eval_score = minimax_ab(new_board, depth - 1, alpha, beta, True)\n",
        "            else:\n",
        "                _, eval_score = minimax_ab(new_board, depth - 1, alpha, beta, True)\n",
        "\n",
        "            if eval_score is not None and eval_score < best_score:\n",
        "                best_score = eval_score\n",
        "                best_action = action\n",
        "            beta = min(beta, eval_score)\n",
        "            if beta <= alpha:\n",
        "                break  # Alpha pruning\n",
        "\n",
        "        if best_action is None and mean_move_available:\n",
        "            best_action = 'mean'\n",
        "\n",
        "    return best_action\n",
        "\n",
        "# Define the function to let two heuristic search agents compete against each other\n",
        "def compete_heuristic_agents(board_size, depth_player1, depth_player2, heuristic_player1, heuristic_player2):\n",
        "    board = create_board(6, board_size)\n",
        "    player = 1\n",
        "\n",
        "    while not is_terminal(board):\n",
        "        if player == 1:\n",
        "            action = minimax_player(board, depth_player1, player)  # Pass depth_player1\n",
        "            apply_player_move(board, action, player)\n",
        "        else:\n",
        "            action = minimax_player(board, depth_player2, player)  # Pass depth_player2\n",
        "            apply_player_move(board, action, player)\n",
        "        player *= -1\n",
        "\n",
        "    if check_winner(board, 1):\n",
        "        print(\"Player 1 wins!\")\n",
        "    elif check_winner(board, -1):\n",
        "        print(\"Player 2 wins!\")\n",
        "    else:\n",
        "        print(\"It's a draw!\")\n",
        "\n",
        "# Define the parameters for the competition\n",
        "board_size = 7\n",
        "depth_player1 = 4\n",
        "depth_player2 = 3\n",
        "heuristic_player1 = heuristic_evaluation\n",
        "heuristic_player2 = heuristic_evaluation\n",
        "\n",
        "# Compete the heuristic search agents\n",
        "compete_heuristic_agents(board_size, depth_player1, depth_player2, heuristic_player1, heuristic_player2)"
      ]
    },
    {
      "cell_type": "markdown",
      "metadata": {
        "id": "UFhDH9M_L8cp"
      },
      "source": [
        "---\n",
        "Assignment adapted from [Michael Hahsler](https://github.com/mhahsler/CS7320-AI) under [CC BY-SA](https://creativecommons.org/licenses/by-sa/4.0/deed.en) license.\n"
      ]
    }
  ],
  "metadata": {
    "colab": {
      "provenance": []
    },
    "kernelspec": {
      "display_name": "Python 3 (ipykernel)",
      "language": "python",
      "name": "python3"
    },
    "language_info": {
      "codemirror_mode": {
        "name": "ipython",
        "version": 3
      },
      "file_extension": ".py",
      "mimetype": "text/x-python",
      "name": "python",
      "nbconvert_exporter": "python",
      "pygments_lexer": "ipython3",
      "version": "3.9.5"
    }
  },
  "nbformat": 4,
  "nbformat_minor": 0
}